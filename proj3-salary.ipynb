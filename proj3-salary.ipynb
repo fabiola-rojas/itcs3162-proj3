{
 "cells": [
  {
   "cell_type": "markdown",
   "id": "cfbb03ad-44d7-4b58-8d52-d0d87ea65002",
   "metadata": {},
   "source": [
    "# <span style=\"color: hotpink\">Project 3: Regression\n",
    "### <span style=\"color: hotpink\">Fabiola Rojas</span>\n",
    "---"
   ]
  },
  {
   "cell_type": "markdown",
   "id": "028045a7-d5d7-45d9-957f-e3282eae50c3",
   "metadata": {},
   "source": [
    "## <span style=\"color: hotpink\">The Problem</span> \n",
    "\n",
    "In today’s rapidly evolving job market, understanding salary trends is crucial for both employers and employees. Data engineering is a high-demand field, and salaries can vary significantly based on factors such as experience level, job title, employment type, company location, and remote work options. This project is particularly important to me as I am soon starting a data engineering position myself. Understanding salary trends and the factors that influence compensation will not only help me navigate my own career but also provide valuable insights for others entering the field. The goal of this project is to build a regression model that predicts salaries in USD based on these attributes. \n",
    "\n",
    "---"
   ]
  },
  {
   "cell_type": "markdown",
   "id": "f8738c01-2a0f-45c0-8860-b4a7f73af291",
   "metadata": {},
   "source": [
    "## <span style=\"color: hotpink\">The Data\n",
    "\n",
    "For this project, I am using the [Data Engineer Salary in 2024 dataset](https://www.kaggle.com/datasets/chopper53/data-engineer-salary-in-2024/data) from Kaggle, which provides salary information in both local currency and standardized USD. The dataset contains key employment attributes, including:  \n",
    "\n",
    "- Experience level (Entry-Level, Mid-Level, Senior Engineer)\n",
    "- Employment type (Full-time, Part-time, Contract, Freelance)\n",
    "- Job title (e.g., AI Engineer, Big Data Engineer)\n",
    "- Remote work ratio (0%, 50%, 100% remote)\n",
    "- Company size (Small, Medium, Large)\n",
    "- Company and employee location\n",
    "\n",
    "---"
   ]
  },
  {
   "cell_type": "markdown",
   "id": "d7bcc108-136f-4fe9-b50d-047e259e5e62",
   "metadata": {},
   "source": [
    "## <span style=\"color: hotpink\">What is regression and how does it work?\n",
    "\n",
    "\n",
    "Regression is a supervised learning technique used for predicting continuous numerical values based on input features. It helps establish relationships between independent variables (predictors) and a dependent variable (target).\n",
    "\n",
    "One of the most commonly used regression methods is linear regression, which assumes a linear relationship between the independent variables and the target variable. The equation for a simple linear regression model is:\n",
    "\n",
    "$$\n",
    "y = \\beta_0 + \\beta_1 x_1 + \\beta_2 x_2 + ... + \\beta_n x_n + \\epsilon\n",
    "$$\n",
    "\n",
    "where:\n",
    "\n",
    "- $y$ is the predicted salary (dependent variable).\n",
    "- $x_1, x_2, ..., x_n$ are the independent variables (e.g., experience level, job title).\n",
    "- $\\beta_0$ is the intercept (the predicted value when all features are zero).\n",
    "- $\\beta_1, \\beta_2, ..., \\beta_n$ are the coefficients that determine the impact of each feature.\n",
    "- $\\epsilon$ is the error term (residual), representing the difference between actual and predicted values.  \n",
    "\n",
    "Linear regression finds the best-fitting line by minimizing the sum of squared residuals—the differences between actual and predicted values. The two most common approaches to estimate the coefficients $\\beta$ are Ordinary Least Squares (OLS) and Gradient Descent. OLS directly computes the optimal coefficients by minimizing the sum of squared residuals. Gradient Descent is an optimization technique that minimizes the cost function by iteratively updating the coefficients.\n",
    "\n",
    "---\n"
   ]
  },
  {
   "cell_type": "markdown",
   "id": "af1935b8-d186-48c1-bc8c-2032cb3da664",
   "metadata": {},
   "source": [
    "## <span style=\"color: hotpink\">Data Understanding and Pre-Processing"
   ]
  },
  {
   "cell_type": "markdown",
   "id": "0c8f3f52-f54d-40a2-8b19-91a34b1934f4",
   "metadata": {},
   "source": [
    "<span style=\"color: purple\">Let's start working with the dataset."
   ]
  },
  {
   "cell_type": "code",
   "execution_count": 8,
   "id": "9ee36fc2-4d9c-403f-a50a-8c7d5c7b40fa",
   "metadata": {},
   "outputs": [],
   "source": [
    "import pandas as pd"
   ]
  },
  {
   "cell_type": "code",
   "execution_count": 9,
   "id": "38d006cf-3b74-4180-9d4c-f2d8f6a129e7",
   "metadata": {},
   "outputs": [
    {
     "data": {
      "text/html": [
       "<div>\n",
       "<style scoped>\n",
       "    .dataframe tbody tr th:only-of-type {\n",
       "        vertical-align: middle;\n",
       "    }\n",
       "\n",
       "    .dataframe tbody tr th {\n",
       "        vertical-align: top;\n",
       "    }\n",
       "\n",
       "    .dataframe thead th {\n",
       "        text-align: right;\n",
       "    }\n",
       "</style>\n",
       "<table border=\"1\" class=\"dataframe\">\n",
       "  <thead>\n",
       "    <tr style=\"text-align: right;\">\n",
       "      <th></th>\n",
       "      <th>work_year</th>\n",
       "      <th>experience_level</th>\n",
       "      <th>employment_type</th>\n",
       "      <th>job_title</th>\n",
       "      <th>salary</th>\n",
       "      <th>salary_currency</th>\n",
       "      <th>salary_in_usd</th>\n",
       "      <th>employee_residence</th>\n",
       "      <th>remote_ratio</th>\n",
       "      <th>company_location</th>\n",
       "      <th>company_size</th>\n",
       "    </tr>\n",
       "  </thead>\n",
       "  <tbody>\n",
       "    <tr>\n",
       "      <th>0</th>\n",
       "      <td>2024</td>\n",
       "      <td>SE</td>\n",
       "      <td>FT</td>\n",
       "      <td>AI Engineer</td>\n",
       "      <td>202730</td>\n",
       "      <td>USD</td>\n",
       "      <td>202730</td>\n",
       "      <td>US</td>\n",
       "      <td>0</td>\n",
       "      <td>US</td>\n",
       "      <td>M</td>\n",
       "    </tr>\n",
       "    <tr>\n",
       "      <th>1</th>\n",
       "      <td>2024</td>\n",
       "      <td>SE</td>\n",
       "      <td>FT</td>\n",
       "      <td>AI Engineer</td>\n",
       "      <td>92118</td>\n",
       "      <td>USD</td>\n",
       "      <td>92118</td>\n",
       "      <td>US</td>\n",
       "      <td>0</td>\n",
       "      <td>US</td>\n",
       "      <td>M</td>\n",
       "    </tr>\n",
       "    <tr>\n",
       "      <th>2</th>\n",
       "      <td>2024</td>\n",
       "      <td>SE</td>\n",
       "      <td>FT</td>\n",
       "      <td>Data Engineer</td>\n",
       "      <td>130500</td>\n",
       "      <td>USD</td>\n",
       "      <td>130500</td>\n",
       "      <td>US</td>\n",
       "      <td>0</td>\n",
       "      <td>US</td>\n",
       "      <td>M</td>\n",
       "    </tr>\n",
       "    <tr>\n",
       "      <th>3</th>\n",
       "      <td>2024</td>\n",
       "      <td>SE</td>\n",
       "      <td>FT</td>\n",
       "      <td>Data Engineer</td>\n",
       "      <td>96000</td>\n",
       "      <td>USD</td>\n",
       "      <td>96000</td>\n",
       "      <td>US</td>\n",
       "      <td>0</td>\n",
       "      <td>US</td>\n",
       "      <td>M</td>\n",
       "    </tr>\n",
       "    <tr>\n",
       "      <th>4</th>\n",
       "      <td>2024</td>\n",
       "      <td>SE</td>\n",
       "      <td>FT</td>\n",
       "      <td>Machine Learning Engineer</td>\n",
       "      <td>190000</td>\n",
       "      <td>USD</td>\n",
       "      <td>190000</td>\n",
       "      <td>US</td>\n",
       "      <td>0</td>\n",
       "      <td>US</td>\n",
       "      <td>M</td>\n",
       "    </tr>\n",
       "    <tr>\n",
       "      <th>...</th>\n",
       "      <td>...</td>\n",
       "      <td>...</td>\n",
       "      <td>...</td>\n",
       "      <td>...</td>\n",
       "      <td>...</td>\n",
       "      <td>...</td>\n",
       "      <td>...</td>\n",
       "      <td>...</td>\n",
       "      <td>...</td>\n",
       "      <td>...</td>\n",
       "      <td>...</td>\n",
       "    </tr>\n",
       "    <tr>\n",
       "      <th>16529</th>\n",
       "      <td>2020</td>\n",
       "      <td>SE</td>\n",
       "      <td>FT</td>\n",
       "      <td>Data Scientist</td>\n",
       "      <td>412000</td>\n",
       "      <td>USD</td>\n",
       "      <td>412000</td>\n",
       "      <td>US</td>\n",
       "      <td>100</td>\n",
       "      <td>US</td>\n",
       "      <td>L</td>\n",
       "    </tr>\n",
       "    <tr>\n",
       "      <th>16530</th>\n",
       "      <td>2021</td>\n",
       "      <td>MI</td>\n",
       "      <td>FT</td>\n",
       "      <td>Principal Data Scientist</td>\n",
       "      <td>151000</td>\n",
       "      <td>USD</td>\n",
       "      <td>151000</td>\n",
       "      <td>US</td>\n",
       "      <td>100</td>\n",
       "      <td>US</td>\n",
       "      <td>L</td>\n",
       "    </tr>\n",
       "    <tr>\n",
       "      <th>16531</th>\n",
       "      <td>2020</td>\n",
       "      <td>EN</td>\n",
       "      <td>FT</td>\n",
       "      <td>Data Scientist</td>\n",
       "      <td>105000</td>\n",
       "      <td>USD</td>\n",
       "      <td>105000</td>\n",
       "      <td>US</td>\n",
       "      <td>100</td>\n",
       "      <td>US</td>\n",
       "      <td>S</td>\n",
       "    </tr>\n",
       "    <tr>\n",
       "      <th>16532</th>\n",
       "      <td>2020</td>\n",
       "      <td>EN</td>\n",
       "      <td>CT</td>\n",
       "      <td>Business Data Analyst</td>\n",
       "      <td>100000</td>\n",
       "      <td>USD</td>\n",
       "      <td>100000</td>\n",
       "      <td>US</td>\n",
       "      <td>100</td>\n",
       "      <td>US</td>\n",
       "      <td>L</td>\n",
       "    </tr>\n",
       "    <tr>\n",
       "      <th>16533</th>\n",
       "      <td>2021</td>\n",
       "      <td>SE</td>\n",
       "      <td>FT</td>\n",
       "      <td>Data Science Manager</td>\n",
       "      <td>7000000</td>\n",
       "      <td>INR</td>\n",
       "      <td>94665</td>\n",
       "      <td>IN</td>\n",
       "      <td>50</td>\n",
       "      <td>IN</td>\n",
       "      <td>L</td>\n",
       "    </tr>\n",
       "  </tbody>\n",
       "</table>\n",
       "<p>16534 rows × 11 columns</p>\n",
       "</div>"
      ],
      "text/plain": [
       "       work_year experience_level employment_type                  job_title  \\\n",
       "0           2024               SE              FT                AI Engineer   \n",
       "1           2024               SE              FT                AI Engineer   \n",
       "2           2024               SE              FT              Data Engineer   \n",
       "3           2024               SE              FT              Data Engineer   \n",
       "4           2024               SE              FT  Machine Learning Engineer   \n",
       "...          ...              ...             ...                        ...   \n",
       "16529       2020               SE              FT             Data Scientist   \n",
       "16530       2021               MI              FT   Principal Data Scientist   \n",
       "16531       2020               EN              FT             Data Scientist   \n",
       "16532       2020               EN              CT      Business Data Analyst   \n",
       "16533       2021               SE              FT       Data Science Manager   \n",
       "\n",
       "        salary salary_currency  salary_in_usd employee_residence  \\\n",
       "0       202730             USD         202730                 US   \n",
       "1        92118             USD          92118                 US   \n",
       "2       130500             USD         130500                 US   \n",
       "3        96000             USD          96000                 US   \n",
       "4       190000             USD         190000                 US   \n",
       "...        ...             ...            ...                ...   \n",
       "16529   412000             USD         412000                 US   \n",
       "16530   151000             USD         151000                 US   \n",
       "16531   105000             USD         105000                 US   \n",
       "16532   100000             USD         100000                 US   \n",
       "16533  7000000             INR          94665                 IN   \n",
       "\n",
       "       remote_ratio company_location company_size  \n",
       "0                 0               US            M  \n",
       "1                 0               US            M  \n",
       "2                 0               US            M  \n",
       "3                 0               US            M  \n",
       "4                 0               US            M  \n",
       "...             ...              ...          ...  \n",
       "16529           100               US            L  \n",
       "16530           100               US            L  \n",
       "16531           100               US            S  \n",
       "16532           100               US            L  \n",
       "16533            50               IN            L  \n",
       "\n",
       "[16534 rows x 11 columns]"
      ]
     },
     "execution_count": 9,
     "metadata": {},
     "output_type": "execute_result"
    }
   ],
   "source": [
    "df = pd.read_csv(\"/Users/fabiolarojas/Documents/itcs3162/salaries (2) 2.csv\")\n",
    "df"
   ]
  },
  {
   "cell_type": "code",
   "execution_count": 10,
   "id": "e2d80802-0521-4765-a2f7-7eb8a7102f71",
   "metadata": {},
   "outputs": [
    {
     "data": {
      "text/plain": [
       "Index(['work_year', 'experience_level', 'employment_type', 'job_title',\n",
       "       'salary', 'salary_currency', 'salary_in_usd', 'employee_residence',\n",
       "       'remote_ratio', 'company_location', 'company_size'],\n",
       "      dtype='object')"
      ]
     },
     "execution_count": 10,
     "metadata": {},
     "output_type": "execute_result"
    }
   ],
   "source": [
    "df.columns"
   ]
  },
  {
   "cell_type": "markdown",
   "id": "f830cecb-6747-4901-919e-38a9332fe0a5",
   "metadata": {},
   "source": [
    "<span style=\"color: purple\">I won't be needing the unstandardized salary column or the salary currency column, so I'll drop these and rename the USD salary column to simplify things a little bit."
   ]
  },
  {
   "cell_type": "code",
   "execution_count": 12,
   "id": "0ab527e3-b953-4dcd-8dda-36d0f3e62668",
   "metadata": {},
   "outputs": [
    {
     "data": {
      "text/html": [
       "<div>\n",
       "<style scoped>\n",
       "    .dataframe tbody tr th:only-of-type {\n",
       "        vertical-align: middle;\n",
       "    }\n",
       "\n",
       "    .dataframe tbody tr th {\n",
       "        vertical-align: top;\n",
       "    }\n",
       "\n",
       "    .dataframe thead th {\n",
       "        text-align: right;\n",
       "    }\n",
       "</style>\n",
       "<table border=\"1\" class=\"dataframe\">\n",
       "  <thead>\n",
       "    <tr style=\"text-align: right;\">\n",
       "      <th></th>\n",
       "      <th>work_year</th>\n",
       "      <th>experience_level</th>\n",
       "      <th>employment_type</th>\n",
       "      <th>job_title</th>\n",
       "      <th>salary_usd</th>\n",
       "      <th>employee_residence</th>\n",
       "      <th>remote_ratio</th>\n",
       "      <th>company_location</th>\n",
       "      <th>company_size</th>\n",
       "    </tr>\n",
       "  </thead>\n",
       "  <tbody>\n",
       "    <tr>\n",
       "      <th>0</th>\n",
       "      <td>2024</td>\n",
       "      <td>SE</td>\n",
       "      <td>FT</td>\n",
       "      <td>AI Engineer</td>\n",
       "      <td>202730</td>\n",
       "      <td>US</td>\n",
       "      <td>0</td>\n",
       "      <td>US</td>\n",
       "      <td>M</td>\n",
       "    </tr>\n",
       "    <tr>\n",
       "      <th>1</th>\n",
       "      <td>2024</td>\n",
       "      <td>SE</td>\n",
       "      <td>FT</td>\n",
       "      <td>AI Engineer</td>\n",
       "      <td>92118</td>\n",
       "      <td>US</td>\n",
       "      <td>0</td>\n",
       "      <td>US</td>\n",
       "      <td>M</td>\n",
       "    </tr>\n",
       "    <tr>\n",
       "      <th>2</th>\n",
       "      <td>2024</td>\n",
       "      <td>SE</td>\n",
       "      <td>FT</td>\n",
       "      <td>Data Engineer</td>\n",
       "      <td>130500</td>\n",
       "      <td>US</td>\n",
       "      <td>0</td>\n",
       "      <td>US</td>\n",
       "      <td>M</td>\n",
       "    </tr>\n",
       "    <tr>\n",
       "      <th>3</th>\n",
       "      <td>2024</td>\n",
       "      <td>SE</td>\n",
       "      <td>FT</td>\n",
       "      <td>Data Engineer</td>\n",
       "      <td>96000</td>\n",
       "      <td>US</td>\n",
       "      <td>0</td>\n",
       "      <td>US</td>\n",
       "      <td>M</td>\n",
       "    </tr>\n",
       "    <tr>\n",
       "      <th>4</th>\n",
       "      <td>2024</td>\n",
       "      <td>SE</td>\n",
       "      <td>FT</td>\n",
       "      <td>Machine Learning Engineer</td>\n",
       "      <td>190000</td>\n",
       "      <td>US</td>\n",
       "      <td>0</td>\n",
       "      <td>US</td>\n",
       "      <td>M</td>\n",
       "    </tr>\n",
       "  </tbody>\n",
       "</table>\n",
       "</div>"
      ],
      "text/plain": [
       "   work_year experience_level employment_type                  job_title  \\\n",
       "0       2024               SE              FT                AI Engineer   \n",
       "1       2024               SE              FT                AI Engineer   \n",
       "2       2024               SE              FT              Data Engineer   \n",
       "3       2024               SE              FT              Data Engineer   \n",
       "4       2024               SE              FT  Machine Learning Engineer   \n",
       "\n",
       "   salary_usd employee_residence  remote_ratio company_location company_size  \n",
       "0      202730                 US             0               US            M  \n",
       "1       92118                 US             0               US            M  \n",
       "2      130500                 US             0               US            M  \n",
       "3       96000                 US             0               US            M  \n",
       "4      190000                 US             0               US            M  "
      ]
     },
     "execution_count": 12,
     "metadata": {},
     "output_type": "execute_result"
    }
   ],
   "source": [
    "df = df.drop(['salary', 'salary_currency'], axis=1)\n",
    "df = df.rename(columns={'salary_in_usd':'salary_usd'})\n",
    "df.head()"
   ]
  },
  {
   "cell_type": "code",
   "execution_count": 13,
   "id": "3ddeae71-755e-4a1b-8a7c-efbdb04b34a7",
   "metadata": {},
   "outputs": [
    {
     "name": "stdout",
     "output_type": "stream",
     "text": [
      "<class 'pandas.core.frame.DataFrame'>\n",
      "RangeIndex: 16534 entries, 0 to 16533\n",
      "Data columns (total 9 columns):\n",
      " #   Column              Non-Null Count  Dtype \n",
      "---  ------              --------------  ----- \n",
      " 0   work_year           16534 non-null  int64 \n",
      " 1   experience_level    16534 non-null  object\n",
      " 2   employment_type     16534 non-null  object\n",
      " 3   job_title           16534 non-null  object\n",
      " 4   salary_usd          16534 non-null  int64 \n",
      " 5   employee_residence  16534 non-null  object\n",
      " 6   remote_ratio        16534 non-null  int64 \n",
      " 7   company_location    16534 non-null  object\n",
      " 8   company_size        16534 non-null  object\n",
      "dtypes: int64(3), object(6)\n",
      "memory usage: 1.1+ MB\n"
     ]
    }
   ],
   "source": [
    "df.info()"
   ]
  },
  {
   "cell_type": "markdown",
   "id": "1a19deea-cd94-4feb-bdc5-4304cfb6792a",
   "metadata": {},
   "source": [
    "<span style=\"color: purple\">There are no nulls so we won't have to do any extra work here."
   ]
  },
  {
   "cell_type": "code",
   "execution_count": 15,
   "id": "4b08ecf7-d9df-45a7-a334-38eb8121685c",
   "metadata": {},
   "outputs": [
    {
     "data": {
      "text/plain": [
       "np.int64(6422)"
      ]
     },
     "execution_count": 15,
     "metadata": {},
     "output_type": "execute_result"
    }
   ],
   "source": [
    "df.duplicated().sum()"
   ]
  },
  {
   "cell_type": "markdown",
   "id": "297930dc-cfbe-4a72-aad5-74474b243722",
   "metadata": {},
   "source": [
    "<span style=\"color: purple\">There are 6,422 duplicate rows which account for over 1/3 of the data. This could definitely be a problem, seeing as I don't find it very likely that these are legitimate repeats given the amount of unique salary and job title values there are just in the preview of the data. This is probably an error in the data entry and it is best to remove the duplicates to avoid overrepresentation of certain categories that could skew the results."
   ]
  },
  {
   "cell_type": "code",
   "execution_count": 17,
   "id": "9d3e5563-0ae4-4733-8e35-2c377a238813",
   "metadata": {},
   "outputs": [
    {
     "data": {
      "text/plain": [
       "(10112, 9)"
      ]
     },
     "execution_count": 17,
     "metadata": {},
     "output_type": "execute_result"
    }
   ],
   "source": [
    "df = df.drop_duplicates()\n",
    "df.shape"
   ]
  },
  {
   "cell_type": "markdown",
   "id": "4495887a-209b-47e5-a642-6297e47c0911",
   "metadata": {},
   "source": [
    "<span style=\"color: purple\">The dataset is now down to 10,112 rows. Let's view the counts for each class in our features."
   ]
  },
  {
   "cell_type": "code",
   "execution_count": 19,
   "id": "a286cb02-2324-44fe-8ebd-7691ff33731d",
   "metadata": {},
   "outputs": [
    {
     "name": "stdout",
     "output_type": "stream",
     "text": [
      "work_year\n",
      "2023    4632\n",
      "2024    4073\n",
      "2022    1116\n",
      "2021     216\n",
      "2020      75\n",
      "Name: count, dtype: int64\n",
      "\n",
      "experience_level\n",
      "SE    5950\n",
      "MI    2761\n",
      "EN    1010\n",
      "EX     391\n",
      "Name: count, dtype: int64\n",
      "\n",
      "employment_type\n",
      "FT    10032\n",
      "PT       38\n",
      "CT       28\n",
      "FL       14\n",
      "Name: count, dtype: int64\n",
      "\n",
      "job_title\n",
      "Data Engineer                1842\n",
      "Data Scientist               1835\n",
      "Data Analyst                 1383\n",
      "Machine Learning Engineer     945\n",
      "Analytics Engineer            354\n",
      "                             ... \n",
      "BI Data Engineer                1\n",
      "Marketing Data Engineer         1\n",
      "Data Science Tech Lead          1\n",
      "Principal Data Architect        1\n",
      "Cloud Data Architect            1\n",
      "Name: count, Length: 155, dtype: int64\n",
      "\n",
      "employee_residence\n",
      "US    8326\n",
      "GB     533\n",
      "CA     402\n",
      "DE      97\n",
      "ES      78\n",
      "      ... \n",
      "IQ       1\n",
      "BG       1\n",
      "JE       1\n",
      "RS       1\n",
      "LU       1\n",
      "Name: count, Length: 88, dtype: int64\n",
      "\n",
      "remote_ratio\n",
      "0      6393\n",
      "100    3472\n",
      "50      247\n",
      "Name: count, dtype: int64\n",
      "\n",
      "company_location\n",
      "US    8377\n",
      "GB     541\n",
      "CA     404\n",
      "DE     104\n",
      "ES      74\n",
      "      ... \n",
      "DZ       1\n",
      "IQ       1\n",
      "CN       1\n",
      "CL       1\n",
      "MD       1\n",
      "Name: count, Length: 77, dtype: int64\n",
      "\n",
      "company_size\n",
      "M    9283\n",
      "L     642\n",
      "S     187\n",
      "Name: count, dtype: int64\n",
      "\n"
     ]
    }
   ],
   "source": [
    "features = df.drop(columns=['salary_usd'])\n",
    "for col in features:\n",
    "    print(df[col].value_counts())\n",
    "    print()"
   ]
  },
  {
   "cell_type": "markdown",
   "id": "ac87160b-4a9b-4fd1-a3aa-96441bdf7e11",
   "metadata": {},
   "source": [
    "<span style=\"color: purple\">There are a few things to note after viewing the value counts:  \n",
    "- <span style=\"color: purple\">Most of the data comes from work years 2023 and 2024. Since it's pretty recent we should have pretty accurate data for predicting salaries.  \n",
    "- <span style=\"color: purple\">There is a fourth class for experience_level that was not defined in the dataset description: 'EX'. It's possible that it means Executive. We can make this assumption and not worry too much about the effects on the model as it is the least-represented class.  \n",
    "- <span style=\"color: purple\">Most of the employment types are full-time, and this is okay because other employment types for this kind of career are pretty unheard of anyway.  \n",
    "- <span style=\"color: purple\">Job title gets tricky because there are 155 unique values. The most common are data engineer, data scientist, data analyst, and machine learning engineer. There are lots of different titles for similar jobs and it is unclear the best way to encode this feature.  \n",
    "- <span style=\"color: purple\">The most common employee residence and company location is the US, followed by Great Britain, Canada, and 85 other countries. I will group these other countries together as \"other.\"  \n",
    "- <span style=\"color: purple\">Most jobs are fully onsite, about a third are fully remote, and few are hybrid.  \n",
    "- <span style=\"color: purple\">Most companies are medium sized, some are large, and few are small.  \n"
   ]
  },
  {
   "cell_type": "code",
   "execution_count": 21,
   "id": "b372f12d-4ecb-4c63-b60c-ef41b18e8544",
   "metadata": {},
   "outputs": [
    {
     "data": {
      "text/html": [
       "<div>\n",
       "<style scoped>\n",
       "    .dataframe tbody tr th:only-of-type {\n",
       "        vertical-align: middle;\n",
       "    }\n",
       "\n",
       "    .dataframe tbody tr th {\n",
       "        vertical-align: top;\n",
       "    }\n",
       "\n",
       "    .dataframe thead th {\n",
       "        text-align: right;\n",
       "    }\n",
       "</style>\n",
       "<table border=\"1\" class=\"dataframe\">\n",
       "  <thead>\n",
       "    <tr style=\"text-align: right;\">\n",
       "      <th></th>\n",
       "      <th>job_title</th>\n",
       "      <th>count</th>\n",
       "    </tr>\n",
       "  </thead>\n",
       "  <tbody>\n",
       "    <tr>\n",
       "      <th>0</th>\n",
       "      <td>Data Engineer</td>\n",
       "      <td>1842</td>\n",
       "    </tr>\n",
       "    <tr>\n",
       "      <th>1</th>\n",
       "      <td>Data Scientist</td>\n",
       "      <td>1835</td>\n",
       "    </tr>\n",
       "    <tr>\n",
       "      <th>2</th>\n",
       "      <td>Data Analyst</td>\n",
       "      <td>1383</td>\n",
       "    </tr>\n",
       "    <tr>\n",
       "      <th>3</th>\n",
       "      <td>Machine Learning Engineer</td>\n",
       "      <td>945</td>\n",
       "    </tr>\n",
       "    <tr>\n",
       "      <th>4</th>\n",
       "      <td>Analytics Engineer</td>\n",
       "      <td>354</td>\n",
       "    </tr>\n",
       "    <tr>\n",
       "      <th>5</th>\n",
       "      <td>Research Scientist</td>\n",
       "      <td>320</td>\n",
       "    </tr>\n",
       "    <tr>\n",
       "      <th>6</th>\n",
       "      <td>Data Architect</td>\n",
       "      <td>283</td>\n",
       "    </tr>\n",
       "    <tr>\n",
       "      <th>7</th>\n",
       "      <td>Research Engineer</td>\n",
       "      <td>218</td>\n",
       "    </tr>\n",
       "    <tr>\n",
       "      <th>8</th>\n",
       "      <td>Data Science</td>\n",
       "      <td>206</td>\n",
       "    </tr>\n",
       "    <tr>\n",
       "      <th>9</th>\n",
       "      <td>ML Engineer</td>\n",
       "      <td>172</td>\n",
       "    </tr>\n",
       "    <tr>\n",
       "      <th>10</th>\n",
       "      <td>Business Intelligence Analyst</td>\n",
       "      <td>172</td>\n",
       "    </tr>\n",
       "    <tr>\n",
       "      <th>11</th>\n",
       "      <td>Applied Scientist</td>\n",
       "      <td>141</td>\n",
       "    </tr>\n",
       "    <tr>\n",
       "      <th>12</th>\n",
       "      <td>Research Analyst</td>\n",
       "      <td>113</td>\n",
       "    </tr>\n",
       "    <tr>\n",
       "      <th>13</th>\n",
       "      <td>Business Intelligence Engineer</td>\n",
       "      <td>110</td>\n",
       "    </tr>\n",
       "    <tr>\n",
       "      <th>14</th>\n",
       "      <td>Machine Learning Scientist</td>\n",
       "      <td>109</td>\n",
       "    </tr>\n",
       "    <tr>\n",
       "      <th>15</th>\n",
       "      <td>Data Manager</td>\n",
       "      <td>106</td>\n",
       "    </tr>\n",
       "    <tr>\n",
       "      <th>16</th>\n",
       "      <td>AI Engineer</td>\n",
       "      <td>105</td>\n",
       "    </tr>\n",
       "    <tr>\n",
       "      <th>17</th>\n",
       "      <td>Data Science Manager</td>\n",
       "      <td>101</td>\n",
       "    </tr>\n",
       "    <tr>\n",
       "      <th>18</th>\n",
       "      <td>Business Intelligence</td>\n",
       "      <td>85</td>\n",
       "    </tr>\n",
       "    <tr>\n",
       "      <th>19</th>\n",
       "      <td>Data Specialist</td>\n",
       "      <td>76</td>\n",
       "    </tr>\n",
       "  </tbody>\n",
       "</table>\n",
       "</div>"
      ],
      "text/plain": [
       "                         job_title  count\n",
       "0                    Data Engineer   1842\n",
       "1                   Data Scientist   1835\n",
       "2                     Data Analyst   1383\n",
       "3        Machine Learning Engineer    945\n",
       "4               Analytics Engineer    354\n",
       "5               Research Scientist    320\n",
       "6                   Data Architect    283\n",
       "7                Research Engineer    218\n",
       "8                     Data Science    206\n",
       "9                      ML Engineer    172\n",
       "10   Business Intelligence Analyst    172\n",
       "11               Applied Scientist    141\n",
       "12                Research Analyst    113\n",
       "13  Business Intelligence Engineer    110\n",
       "14      Machine Learning Scientist    109\n",
       "15                    Data Manager    106\n",
       "16                     AI Engineer    105\n",
       "17            Data Science Manager    101\n",
       "18           Business Intelligence     85\n",
       "19                 Data Specialist     76"
      ]
     },
     "execution_count": 21,
     "metadata": {},
     "output_type": "execute_result"
    }
   ],
   "source": [
    "value_counts = df['job_title'].value_counts()\n",
    "value_counts_df = value_counts.reset_index()\n",
    "value_counts_df.head(20)\n"
   ]
  },
  {
   "cell_type": "markdown",
   "id": "21d35abc-5844-44b8-be08-0a9ab4ab2f3c",
   "metadata": {},
   "source": [
    "<span style=\"color: purple\">Above is an expanded view of some of the most common values for job_title. Some common major categories could be engineer, analyst, scientist, manager, but it may not make sense to group them in this way. I'm not sure the difference in the roles of a data analyst and a research analyst, if any, but grouping them on the basis that they're both 'analysts' may be inaccurate. I will have to do some extra research on these job titles to find the best way to group them. I don't want to have to go through all 155 values, so I will try to focus on the most common classes. The first 13 account for nearly 80% of the data, so I will try to consolidate these. I will leave this for later on in the modeling in case simpler models don't perform well enough."
   ]
  },
  {
   "cell_type": "markdown",
   "id": "62256569-ee4d-4f4c-873d-5b431e460e3c",
   "metadata": {},
   "source": [
    "<span style=\"color: purple\">I'll go ahead and reduce the cardinality of employee_residence and company_location by labeling all countries not in ['US', 'GB', 'CA'] as 'Other'."
   ]
  },
  {
   "cell_type": "code",
   "execution_count": 24,
   "id": "30b09dad-2a8e-40b6-9147-5b2eb938dba4",
   "metadata": {},
   "outputs": [
    {
     "name": "stdout",
     "output_type": "stream",
     "text": [
      "employee_residence\n",
      "US       8326\n",
      "Other     851\n",
      "GB        533\n",
      "CA        402\n",
      "Name: count, dtype: int64\n",
      "company_location\n",
      "US       8377\n",
      "Other     790\n",
      "GB        541\n",
      "CA        404\n",
      "Name: count, dtype: int64\n"
     ]
    }
   ],
   "source": [
    "top_countries = ['US', 'GB', 'CA']\n",
    "\n",
    "df.loc[:, 'employee_residence'] = df['employee_residence'].apply(\n",
    "    lambda x: x if x in top_countries else 'Other'\n",
    ")\n",
    "\n",
    "df.loc[:, 'company_location'] = df['company_location'].apply(\n",
    "    lambda x: x if x in top_countries else 'Other'\n",
    ")\n",
    "\n",
    "print(df['employee_residence'].value_counts())\n",
    "\n",
    "print(df['company_location'].value_counts())"
   ]
  },
  {
   "cell_type": "markdown",
   "id": "af3c2e3a-4101-4188-9aa3-6aa8911fd71d",
   "metadata": {},
   "source": [
    "## <span style=\"color: hotpink\">Visualizations"
   ]
  },
  {
   "cell_type": "markdown",
   "id": "c78237b7-6252-4d5b-8c15-32c842755f77",
   "metadata": {},
   "source": [
    "<span style=\"color: purple\">Before moving on to encoding, let's see what insights we can gain from visualizations."
   ]
  },
  {
   "cell_type": "code",
   "execution_count": 27,
   "id": "79cb6c2f-8db7-41d1-a862-fe3713788561",
   "metadata": {},
   "outputs": [],
   "source": [
    "import seaborn as sns\n",
    "import matplotlib.pyplot as plt"
   ]
  },
  {
   "cell_type": "markdown",
   "id": "10c7e7ef-110e-4a3d-afcc-2c8023c70cc5",
   "metadata": {},
   "source": [
    "#### <span style=\"color: hotpink\">**Salary Distribution**"
   ]
  },
  {
   "cell_type": "code",
   "execution_count": 29,
   "id": "32e49601-f3af-40e5-84f8-f771e5a673d5",
   "metadata": {},
   "outputs": [
    {
     "data": {
      "text/plain": [
       "<Axes: xlabel='salary_usd', ylabel='Count'>"
      ]
     },
     "execution_count": 29,
     "metadata": {},
     "output_type": "execute_result"
    },
    {
     "data": {
      "image/png": "[encoded data removed]",
      "text/plain": [
       "<Figure size 640x480 with 1 Axes>"
      ]
     },
     "metadata": {},
     "output_type": "display_data"
    }
   ],
   "source": [
    "sns.histplot(df['salary_usd'], bins=20, color='#e78ac3')"
   ]
  },
  {
   "cell_type": "markdown",
   "id": "a9a705e0-fe88-4369-ad40-2490c777cd2f",
   "metadata": {},
   "source": [
    "<span style=\"color: purple\">It looks like the target column has some outliers. Let's see how many there are and if it makes sense to remove them."
   ]
  },
  {
   "cell_type": "code",
   "execution_count": 31,
   "id": "17bb7ac7-dfa5-42af-84e9-a0dc47106ab1",
   "metadata": {},
   "outputs": [
    {
     "name": "stdout",
     "output_type": "stream",
     "text": [
      "number of outliers: 174\n"
     ]
    }
   ],
   "source": [
    "Q1 = df['salary_usd'].quantile(0.25)\n",
    "Q3 = df['salary_usd'].quantile(0.75)\n",
    "IQR = Q3 - Q1\n",
    "lower_bound = Q1 - 1.5 * IQR\n",
    "upper_bound = Q3 + 1.5 * IQR\n",
    "\n",
    "outliers = df[(df['salary_usd'] < lower_bound) | (df['salary_usd'] > upper_bound)]\n",
    "print(f'number of outliers: {len(outliers)}')"
   ]
  },
  {
   "cell_type": "markdown",
   "id": "febe3d76-f2ff-40cf-969c-3a41718f62f6",
   "metadata": {},
   "source": [
    "<span style=\"color: purple\">174 outliers accounts for about 1% of the data. They probably aren't necessary, but it's possible they are legitimate values that belong to senior and executive level positions. Let's check."
   ]
  },
  {
   "cell_type": "markdown",
   "id": "2e891408-db34-445f-b50b-a77cb725c4c7",
   "metadata": {},
   "source": [
    "#### <span style=\"color: hotpink\">**Salary Outliers by Experience Level**"
   ]
  },
  {
   "cell_type": "code",
   "execution_count": 34,
   "id": "6892a0b7-4355-4c60-82b8-e1e3197a140b",
   "metadata": {},
   "outputs": [
    {
     "data": {
      "text/plain": [
       "Text(0.5, 1.0, 'Salary Outliers by Experience Level')"
      ]
     },
     "execution_count": 34,
     "metadata": {},
     "output_type": "execute_result"
    },
    {
     "data": {
      "image/png": "[encoded data removed]",
      "text/plain": [
       "<Figure size 1200x600 with 1 Axes>"
      ]
     },
     "metadata": {},
     "output_type": "display_data"
    }
   ],
   "source": [
    "plt.figure(figsize=(12,6))\n",
    "sns.scatterplot(x='experience_level', y='salary_usd', hue='company_size', data=outliers)\n",
    "plt.title(\"Salary Outliers by Experience Level\")\n",
    "#plt.yscale('log')"
   ]
  },
  {
   "cell_type": "markdown",
   "id": "541aee30-538a-40f4-8f8a-2819b221fa3a",
   "metadata": {},
   "source": [
    "<span style=\"color: purple\">It looks like the highest outliers belong to the mid-level engineers which seems highly unlikely, especially for medium-sized companies. One even belongs to an entry-level engineer which must be an error. Many do belong to senior engineers, but few belong to executives. It is probably best to remove the outliers."
   ]
  },
  {
   "cell_type": "code",
   "execution_count": 36,
   "id": "5338ba27-3b7a-4815-bf08-a3335d042831",
   "metadata": {},
   "outputs": [
    {
     "data": {
      "text/plain": [
       "(9938, 9)"
      ]
     },
     "execution_count": 36,
     "metadata": {},
     "output_type": "execute_result"
    }
   ],
   "source": [
    "df = df[(df['salary_usd'] >= lower_bound) & (df['salary_usd'] <= upper_bound)].copy()\n",
    "df.shape"
   ]
  },
  {
   "cell_type": "markdown",
   "id": "33de9c1a-f452-4b4e-b68e-be481ca14531",
   "metadata": {},
   "source": [
    "#### <span style=\"color: hotpink\">**Average Salary by Employment Type and Experience Level**"
   ]
  },
  {
   "cell_type": "code",
   "execution_count": 38,
   "id": "f4cd88cf-c1a7-4a01-8446-d3ccdea79d45",
   "metadata": {},
   "outputs": [
    {
     "data": {
      "image/png": "[encoded data removed]",
      "text/plain": [
       "<Figure size 1000x600 with 1 Axes>"
      ]
     },
     "metadata": {},
     "output_type": "display_data"
    }
   ],
   "source": [
    "df['experience_level'] = pd.Categorical(\n",
    "    df['experience_level'],\n",
    "    categories=['EN', 'MI', 'SE', 'EX'],\n",
    "    ordered=True\n",
    ")\n",
    "\n",
    "plt.figure(figsize=(10, 6))\n",
    "sns.barplot(\n",
    "    data=df,\n",
    "    x='employment_type',\n",
    "    y='salary_usd',\n",
    "    hue='experience_level',\n",
    "    palette='Set2',\n",
    "    estimator='mean',\n",
    "    errorbar=None\n",
    ")\n",
    "plt.title('Average Salary by Employment Type and Experience Level')\n",
    "plt.xlabel('Employment Type')\n",
    "plt.ylabel('Average Salary (USD)')\n",
    "plt.legend(title='Experience Level', bbox_to_anchor=(1.05, 1), loc='upper left')\n",
    "plt.tight_layout()\n",
    "plt.show()"
   ]
  },
  {
   "cell_type": "markdown",
   "id": "90013288-b489-4b0b-939f-785b8ff794ba",
   "metadata": {},
   "source": [
    "<span style=\"color: purple\">Based on this visualization we can confirm that EX probably does mean Executive-Level Engineer as the average salary is highest for this class and the position only exists in full-time roles. As expected, salaries increased with level of experience, so this feature is important for predicting salaries. There is some more variation for EN and MI level engineers. This could be explained by the actual job title, location, or company size. Employment type may also be an important factor because there is a general pattern in salary with level of commitment to the company."
   ]
  },
  {
   "cell_type": "markdown",
   "id": "3a769d08-8b34-430d-bd9f-195813374d67",
   "metadata": {},
   "source": [
    "#### <span style=\"color: hotpink\">**Remote Work Distribution by Year**"
   ]
  },
  {
   "cell_type": "code",
   "execution_count": 41,
   "id": "21817868-780c-478b-b04b-ab2c70fc3424",
   "metadata": {},
   "outputs": [
    {
     "data": {
      "image/png": "[encoded data removed]",
      "text/plain": [
       "<Figure size 1000x600 with 1 Axes>"
      ]
     },
     "metadata": {},
     "output_type": "display_data"
    }
   ],
   "source": [
    "plt.figure(figsize=(10, 6))\n",
    "sns.countplot(\n",
    "    data=df,\n",
    "    x='work_year',\n",
    "    hue='remote_ratio',\n",
    "    palette='Set2',\n",
    "    order=sorted(df['work_year'].unique())\n",
    ")\n",
    "plt.title('Remote Work Distribution by Year')\n",
    "plt.xlabel('Year')\n",
    "plt.ylabel('Count of Job Postings')\n",
    "plt.legend(title='Remote Ratio', labels=['Onsite (0%)', 'Hybrid (50%)', 'Remote (100%)'])\n",
    "plt.show()"
   ]
  },
  {
   "cell_type": "markdown",
   "id": "be327f4a-1307-4e5f-b52a-b84734973d56",
   "metadata": {},
   "source": [
    "<span style=\"color: purple\">As expected, we have very little data for 2020-2022. Most of the data we do have is for onsite and remote types. From what I hear, it seems like more and more jobs are hybrid or remote these days, so I'm assuming this dataset just doesn't have that data. The model won't be great for predicting salaries of different hybrid jobs but it will perform well for onsite jobs."
   ]
  },
  {
   "cell_type": "markdown",
   "id": "f5fc0bc4-ec8f-431b-9419-c3225e8f0084",
   "metadata": {},
   "source": [
    "#### <span style=\"color: hotpink\">**Average Salary by Remote Work Ratio and Year**"
   ]
  },
  {
   "cell_type": "code",
   "execution_count": 44,
   "id": "3d9d1acf-1be1-4d9b-b42d-60362c634f69",
   "metadata": {},
   "outputs": [
    {
     "data": {
      "image/png": "[encoded data removed]",
      "text/plain": [
       "<Figure size 1200x600 with 1 Axes>"
      ]
     },
     "metadata": {},
     "output_type": "display_data"
    }
   ],
   "source": [
    "plt.figure(figsize=(12, 6))\n",
    "sns.barplot(\n",
    "    data=df,\n",
    "    x='work_year',\n",
    "    y='salary_usd',\n",
    "    hue='remote_ratio',\n",
    "    palette='Set2',\n",
    "    estimator='mean',\n",
    "    errorbar=None\n",
    ")\n",
    "plt.title('Average Salary by Remote Work Ratio and Year')\n",
    "plt.xlabel('Work Year')\n",
    "plt.ylabel('Average Salary (USD)')\n",
    "plt.legend(title='Remote Ratio', bbox_to_anchor=(1.05, 1), labels=['Onsite (0%)', 'Hybrid (50%)', 'Remote (100%)'])\n",
    "plt.tight_layout()\n",
    "plt.show()"
   ]
  },
  {
   "cell_type": "markdown",
   "id": "4378d986-2891-4511-9b62-09859ec9e38d",
   "metadata": {},
   "source": [
    "<span style=\"color: purple\">It looks like there is very little change in salaries for hybrid jobs, and this may be because we're lacking enough data. Remote job salaries seem to be increasing since 2020, and it's interesting that this trend is clear with the little data we have. Onsite job salaries have nearly doubled since 2020, but there is a slight decrease from 2023 to 2024. I wonder if this has anything to do with the pandemic, as less people are as willing to work fully on location. Maybe they are being offered more money to work fully onsite. Remote and hybrid workers made more money in 2020 but were surpassed by onsite workers in 2021. Onsite and remote workers now make about the same."
   ]
  },
  {
   "cell_type": "markdown",
   "id": "4b2f49a4-57cb-4605-8e4e-5d912f05aeba",
   "metadata": {},
   "source": [
    "#### <span style=\"color: hotpink\">**Salary Distribution by Company Location**"
   ]
  },
  {
   "cell_type": "code",
   "execution_count": 47,
   "id": "c069455a-f675-4c7a-a74f-d7abdea7fe03",
   "metadata": {},
   "outputs": [
    {
     "data": {
      "image/png": "[encoded data removed]",
      "text/plain": [
       "<Figure size 1400x600 with 1 Axes>"
      ]
     },
     "metadata": {},
     "output_type": "display_data"
    }
   ],
   "source": [
    "top_locations = df['company_location'].value_counts().head(10).index\n",
    "filtered_df = df[df['company_location'].isin(top_locations)]\n",
    "\n",
    "plt.figure(figsize=(14, 6))\n",
    "sns.boxplot(\n",
    "    data=filtered_df,\n",
    "    x='company_location',\n",
    "    y='salary_usd',\n",
    "    order=top_locations,\n",
    "    palette='Set2',\n",
    "    hue='company_location',\n",
    "    legend=False\n",
    ")\n",
    "plt.title('Salary Distribution by Company Location')\n",
    "plt.xlabel('Country')\n",
    "plt.ylabel('Salary (USD)')\n",
    "plt.xticks(rotation=45)\n",
    "plt.show()"
   ]
  },
  {
   "cell_type": "markdown",
   "id": "844a4647-fec6-4083-a113-5d8e52010465",
   "metadata": {},
   "source": [
    "<span style=\"color: purple\">The US and Canada have the highest salaries. This may not be entirely accurate because we have the most data on these two countries, but other countries with prominent tech industries may pay just as much. The 'Other' class includes 74 other countries, and while the average is much lower than the top 3 countries, there are a significant outliers."
   ]
  },
  {
   "cell_type": "markdown",
   "id": "8ea9efaf-e752-4dc0-ba41-9018904742b6",
   "metadata": {},
   "source": [
    "## <span style=\"color: hotpink\">Encoding and Scaling"
   ]
  },
  {
   "cell_type": "markdown",
   "id": "ae4d47fd-f4ad-4b6a-93ff-5f8e484b24eb",
   "metadata": {},
   "source": [
    "<span style=\"color: purple\">I will now encode my features to make them interpretable for my linear regression models. I am replacing the ordinal values with integers (i.e., experience_level, employment_type, etc.), scaling down the original numerical values (remote_ratio and work_year), and getting dummies for the nominal values (countries). After this, all the features will be within a scale of 0-4. The only feature I will not be touching yet is job_title because it is too complicated and I want to start with a simpler model."
   ]
  },
  {
   "cell_type": "code",
   "execution_count": 51,
   "id": "654a8ced-2543-4ba8-ae73-166d6e22a209",
   "metadata": {},
   "outputs": [
    {
     "data": {
      "text/html": [
       "<div>\n",
       "<style scoped>\n",
       "    .dataframe tbody tr th:only-of-type {\n",
       "        vertical-align: middle;\n",
       "    }\n",
       "\n",
       "    .dataframe tbody tr th {\n",
       "        vertical-align: top;\n",
       "    }\n",
       "\n",
       "    .dataframe thead th {\n",
       "        text-align: right;\n",
       "    }\n",
       "</style>\n",
       "<table border=\"1\" class=\"dataframe\">\n",
       "  <thead>\n",
       "    <tr style=\"text-align: right;\">\n",
       "      <th></th>\n",
       "      <th>work_year</th>\n",
       "      <th>experience_level</th>\n",
       "      <th>employment_type</th>\n",
       "      <th>salary_usd</th>\n",
       "      <th>remote_ratio</th>\n",
       "      <th>company_size</th>\n",
       "      <th>company_location_CA</th>\n",
       "      <th>company_location_GB</th>\n",
       "      <th>company_location_US</th>\n",
       "      <th>employee_residence_CA</th>\n",
       "      <th>employee_residence_GB</th>\n",
       "      <th>employee_residence_US</th>\n",
       "    </tr>\n",
       "  </thead>\n",
       "  <tbody>\n",
       "    <tr>\n",
       "      <th>0</th>\n",
       "      <td>4</td>\n",
       "      <td>3</td>\n",
       "      <td>4</td>\n",
       "      <td>202730</td>\n",
       "      <td>0.0</td>\n",
       "      <td>2</td>\n",
       "      <td>0</td>\n",
       "      <td>0</td>\n",
       "      <td>1</td>\n",
       "      <td>0</td>\n",
       "      <td>0</td>\n",
       "      <td>1</td>\n",
       "    </tr>\n",
       "    <tr>\n",
       "      <th>1</th>\n",
       "      <td>4</td>\n",
       "      <td>3</td>\n",
       "      <td>4</td>\n",
       "      <td>92118</td>\n",
       "      <td>0.0</td>\n",
       "      <td>2</td>\n",
       "      <td>0</td>\n",
       "      <td>0</td>\n",
       "      <td>1</td>\n",
       "      <td>0</td>\n",
       "      <td>0</td>\n",
       "      <td>1</td>\n",
       "    </tr>\n",
       "    <tr>\n",
       "      <th>2</th>\n",
       "      <td>4</td>\n",
       "      <td>3</td>\n",
       "      <td>4</td>\n",
       "      <td>130500</td>\n",
       "      <td>0.0</td>\n",
       "      <td>2</td>\n",
       "      <td>0</td>\n",
       "      <td>0</td>\n",
       "      <td>1</td>\n",
       "      <td>0</td>\n",
       "      <td>0</td>\n",
       "      <td>1</td>\n",
       "    </tr>\n",
       "    <tr>\n",
       "      <th>3</th>\n",
       "      <td>4</td>\n",
       "      <td>3</td>\n",
       "      <td>4</td>\n",
       "      <td>96000</td>\n",
       "      <td>0.0</td>\n",
       "      <td>2</td>\n",
       "      <td>0</td>\n",
       "      <td>0</td>\n",
       "      <td>1</td>\n",
       "      <td>0</td>\n",
       "      <td>0</td>\n",
       "      <td>1</td>\n",
       "    </tr>\n",
       "    <tr>\n",
       "      <th>4</th>\n",
       "      <td>4</td>\n",
       "      <td>3</td>\n",
       "      <td>4</td>\n",
       "      <td>190000</td>\n",
       "      <td>0.0</td>\n",
       "      <td>2</td>\n",
       "      <td>0</td>\n",
       "      <td>0</td>\n",
       "      <td>1</td>\n",
       "      <td>0</td>\n",
       "      <td>0</td>\n",
       "      <td>1</td>\n",
       "    </tr>\n",
       "  </tbody>\n",
       "</table>\n",
       "</div>"
      ],
      "text/plain": [
       "   work_year experience_level  employment_type  salary_usd  remote_ratio  \\\n",
       "0          4                3                4      202730           0.0   \n",
       "1          4                3                4       92118           0.0   \n",
       "2          4                3                4      130500           0.0   \n",
       "3          4                3                4       96000           0.0   \n",
       "4          4                3                4      190000           0.0   \n",
       "\n",
       "   company_size  company_location_CA  company_location_GB  \\\n",
       "0             2                    0                    0   \n",
       "1             2                    0                    0   \n",
       "2             2                    0                    0   \n",
       "3             2                    0                    0   \n",
       "4             2                    0                    0   \n",
       "\n",
       "   company_location_US  employee_residence_CA  employee_residence_GB  \\\n",
       "0                    1                      0                      0   \n",
       "1                    1                      0                      0   \n",
       "2                    1                      0                      0   \n",
       "3                    1                      0                      0   \n",
       "4                    1                      0                      0   \n",
       "\n",
       "   employee_residence_US  \n",
       "0                      1  \n",
       "1                      1  \n",
       "2                      1  \n",
       "3                      1  \n",
       "4                      1  "
      ]
     },
     "execution_count": 51,
     "metadata": {},
     "output_type": "execute_result"
    }
   ],
   "source": [
    "exp_map = {'EN': 1, 'MI': 2, 'SE': 3, 'EX': 4}\n",
    "emp_map = {'FL': 1, 'PT': 2, 'CT': 3, 'FT': 4}\n",
    "size_map = {'S': 1, 'M': 2, 'L': 3}\n",
    "\n",
    "df['experience_level'] = df['experience_level'].map(exp_map)\n",
    "df['employment_type'] = df['employment_type'].map(emp_map)\n",
    "df['company_size'] = df['company_size'].map(size_map)\n",
    "\n",
    "df['work_year'] = df['work_year'] - 2020\n",
    "df['remote_ratio'] = df['remote_ratio'] / 100\n",
    "\n",
    "df = pd.get_dummies(df, columns=['company_location', 'employee_residence'], drop_first=False, dtype=int)\n",
    "\n",
    "df_encoded = df.copy()\n",
    "df_encoded = df_encoded.drop(columns=['company_location_Other', 'employee_residence_Other', 'job_title'])\n",
    "df_encoded.head()\n"
   ]
  },
  {
   "cell_type": "code",
   "execution_count": 52,
   "id": "f3875171-f5ed-4c74-9582-8bb8620924d4",
   "metadata": {},
   "outputs": [
    {
     "data": {
      "text/plain": [
       "Index(['work_year', 'experience_level', 'employment_type', 'salary_usd',\n",
       "       'remote_ratio', 'company_size', 'company_location_CA',\n",
       "       'company_location_GB', 'company_location_US', 'employee_residence_CA',\n",
       "       'employee_residence_GB', 'employee_residence_US'],\n",
       "      dtype='object')"
      ]
     },
     "execution_count": 52,
     "metadata": {},
     "output_type": "execute_result"
    }
   ],
   "source": [
    "df_encoded.columns"
   ]
  },
  {
   "cell_type": "markdown",
   "id": "3e8c2fcb-84cb-498a-a107-2cd43b3af82d",
   "metadata": {},
   "source": [
    "## <span style=\"color: hotpink\">Experiment 1 \n",
    "### <span style=\"color: hotpink\">Modeling\n",
    "<span style=\"color: purple\">For the first experiment, I want to try a linear regression using a few variables that I think are important based on the visualizations I made."
   ]
  },
  {
   "cell_type": "code",
   "execution_count": 54,
   "id": "a142ec31-d14b-4611-838c-b8d11a36f400",
   "metadata": {},
   "outputs": [
    {
     "name": "stdout",
     "output_type": "stream",
     "text": [
      "Baseline MAE: 50490.888587163536\n",
      "Baseline MSE: 3866270650.1955805\n",
      "Baseline RMSE: 62179.3426323854\n"
     ]
    }
   ],
   "source": [
    "import numpy as np\n",
    "mean = df_encoded['salary_usd'].mean()\n",
    "\n",
    "abs_diff_from_mean = abs(df_encoded['salary_usd'] - mean)\n",
    "baseline_mae = abs_diff_from_mean.mean()\n",
    "\n",
    "squared_diff_from_mean = (df_encoded['salary_usd'] - mean) ** 2\n",
    "baseline_mse = squared_diff_from_mean.mean()\n",
    "\n",
    "baseline_rmse = np.sqrt(baseline_mse)\n",
    "\n",
    "print(f'Baseline MAE: {baseline_mae}')\n",
    "print(f'Baseline MSE: {baseline_mse}')\n",
    "print(f'Baseline RMSE: {baseline_rmse}')"
   ]
  },
  {
   "cell_type": "code",
   "execution_count": 55,
   "id": "ffd52e7f-5d43-41d8-9977-2f36ed4689bb",
   "metadata": {},
   "outputs": [
    {
     "name": "stdout",
     "output_type": "stream",
     "text": [
      "(6956, 4) (2982, 4)\n"
     ]
    }
   ],
   "source": [
    "from sklearn.linear_model import LinearRegression\n",
    "from sklearn.metrics import mean_absolute_error, mean_squared_error, r2_score\n",
    "from sklearn.model_selection import train_test_split\n",
    "\n",
    "y = df_encoded['salary_usd']\n",
    "X = df_encoded[['employment_type', 'experience_level', 'company_location_US', 'remote_ratio']]\n",
    "\n",
    "X_train, X_test, y_train, y_test = train_test_split(X, y, test_size=0.3, random_state=42)\n",
    "\n",
    "print(X_train.shape, X_test.shape)"
   ]
  },
  {
   "cell_type": "code",
   "execution_count": 56,
   "id": "8901beb9-0c6d-49b5-ae53-5554ed6ec53d",
   "metadata": {},
   "outputs": [],
   "source": [
    "lr_01 = LinearRegression().fit(X_train, y_train)\n",
    "\n",
    "y_pred = lr_01.predict(X_test)"
   ]
  },
  {
   "cell_type": "markdown",
   "id": "1d3aaf8e-bad7-422d-8d10-3083891a82e9",
   "metadata": {},
   "source": [
    "### <span style=\"color: hotpink\">Evaluation"
   ]
  },
  {
   "cell_type": "code",
   "execution_count": 58,
   "id": "6e6d9e85-e671-4c58-9222-fe85698afbe3",
   "metadata": {},
   "outputs": [
    {
     "name": "stdout",
     "output_type": "stream",
     "text": [
      "=== Model Evaluation ===\n",
      "\n",
      "Feature Coefficients:\n",
      "            Feature  Coefficient\n",
      "company_location_US 46160.836513\n",
      "   experience_level 32068.506019\n",
      "    employment_type 12932.546344\n",
      "       remote_ratio -5478.591660\n",
      "\n",
      "Intercept: -27561.25\n",
      "\n",
      "MAE: 43296.94\n",
      "MSE: 2924374773.82\n",
      "RMSE: 54077.49\n",
      "R-squared: 0.245\n"
     ]
    }
   ],
   "source": [
    "coefficients = pd.DataFrame({\n",
    "    'Feature': X_train.columns,\n",
    "    'Coefficient': lr_01.coef_\n",
    "}).sort_values('Coefficient', ascending=False)\n",
    "\n",
    "mae = mean_absolute_error(y_test, y_pred)\n",
    "mse = mean_squared_error(y_test, y_pred)\n",
    "rmse = np.sqrt(mse)\n",
    "r2 = r2_score(y_test, y_pred)\n",
    "\n",
    "print(\"=== Model Evaluation ===\")\n",
    "print(\"\\nFeature Coefficients:\")\n",
    "print(coefficients.to_string(index=False))\n",
    "\n",
    "print(\"\\nIntercept: %.2f\" % lr_01.intercept_)\n",
    "print()\n",
    "\n",
    "print(f'MAE: {mae:.2f}')\n",
    "print(f'MSE: {mse:.2f}')\n",
    "print(f'RMSE: {rmse:.2f}')\n",
    "print(f'R-squared: {r2:.3f}')"
   ]
  },
  {
   "cell_type": "markdown",
   "id": "0beb9395-3053-4338-b0af-6ab48d15d9df",
   "metadata": {},
   "source": [
    "## <span style=\"color: hotpink\">Experiment 2"
   ]
  },
  {
   "cell_type": "code",
   "execution_count": 60,
   "id": "06d7a65c-36ad-40c0-87f1-51cc024e7dcd",
   "metadata": {},
   "outputs": [
    {
     "name": "stdout",
     "output_type": "stream",
     "text": [
      "                            OLS Regression Results                            \n",
      "==============================================================================\n",
      "Dep. Variable:             salary_usd   R-squared:                       0.273\n",
      "Model:                            OLS   Adj. R-squared:                  0.272\n",
      "Method:                 Least Squares   F-statistic:                     338.5\n",
      "Date:                Wed, 26 Mar 2025   Prob (F-statistic):               0.00\n",
      "Time:                        13:34:35   Log-Likelihood:            -1.2221e+05\n",
      "No. Observations:                9938   AIC:                         2.444e+05\n",
      "Df Residuals:                    9926   BIC:                         2.445e+05\n",
      "Df Model:                          11                                         \n",
      "Covariance Type:            nonrobust                                         \n",
      "=========================================================================================\n",
      "                            coef    std err          t      P>|t|      [0.025      0.975]\n",
      "-----------------------------------------------------------------------------------------\n",
      "const                 -2.881e+04   1.31e+04     -2.203      0.028   -5.44e+04   -3178.435\n",
      "work_year              2732.1465    725.267      3.767      0.000    1310.476    4153.817\n",
      "experience_level       3.019e+04    752.309     40.128      0.000    2.87e+04    3.17e+04\n",
      "employment_type        6847.5428   3116.396      2.197      0.028     738.775     1.3e+04\n",
      "remote_ratio          -3342.8484   1161.635     -2.878      0.004   -5619.888   -1065.809\n",
      "company_size           2336.0051   1917.628      1.218      0.223   -1422.935    6094.945\n",
      "company_location_CA   -5869.7069   1.74e+04     -0.338      0.735   -3.99e+04    2.82e+04\n",
      "company_location_GB   -8136.1482    1.7e+04     -0.479      0.632   -4.15e+04    2.52e+04\n",
      "company_location_US    1.227e+04   7161.107      1.714      0.087   -1765.332    2.63e+04\n",
      "employee_residence_CA  5.533e+04   1.73e+04      3.190      0.001    2.13e+04    8.93e+04\n",
      "employee_residence_GB  1.957e+04    1.7e+04      1.149      0.251   -1.38e+04     5.3e+04\n",
      "employee_residence_US  5.011e+04   7038.344      7.120      0.000    3.63e+04    6.39e+04\n",
      "==============================================================================\n",
      "Omnibus:                      538.844   Durbin-Watson:                   1.949\n",
      "Prob(Omnibus):                  0.000   Jarque-Bera (JB):              628.673\n",
      "Skew:                           0.608   Prob(JB):                    3.06e-137\n",
      "Kurtosis:                       3.203   Cond. No.                         302.\n",
      "==============================================================================\n",
      "\n",
      "Notes:\n",
      "[1] Standard Errors assume that the covariance matrix of the errors is correctly specified.\n"
     ]
    }
   ],
   "source": [
    "import statsmodels.api as sm\n",
    "\n",
    "# Define target and predictors (including all available features)\n",
    "X = df_encoded.drop(columns=['salary_usd'])  # Drop target variable\n",
    "y = df_encoded['salary_usd']\n",
    "\n",
    "# Add constant term for intercept\n",
    "X = sm.add_constant(X)\n",
    "\n",
    "# Fit OLS Model\n",
    "ols_model = sm.OLS(y, X).fit()\n",
    "\n",
    "# Print Summary\n",
    "print(ols_model.summary())\n"
   ]
  },
  {
   "cell_type": "markdown",
   "id": "44b7bdc9-981a-477e-9b5c-250aa6d93b76",
   "metadata": {},
   "source": [
    "## <span style=\"color: hotpink\">References\n",
    "1. ChatGPT for debugging and LaTeX."
   ]
  }
 ],
 "metadata": {
  "kernelspec": {
   "display_name": "Python [conda env:itcs3162]",
   "language": "python",
   "name": "conda-env-itcs3162-py"
  },
  "language_info": {
   "codemirror_mode": {
    "name": "ipython",
    "version": 3
   },
   "file_extension": ".py",
   "mimetype": "text/x-python",
   "name": "python",
   "nbconvert_exporter": "python",
   "pygments_lexer": "ipython3",
   "version": "3.12.8"
  }
 },
 "nbformat": 4,
 "nbformat_minor": 5
}
